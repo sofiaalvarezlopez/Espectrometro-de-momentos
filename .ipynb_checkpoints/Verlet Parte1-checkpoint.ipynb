{
 "cells": [
  {
   "cell_type": "code",
   "execution_count": 1,
   "metadata": {},
   "outputs": [],
   "source": [
    "import numpy as np\n",
    "import matplotlib.pyplot as plt\n",
    "from mpl_toolkits.mplot3d.axes3d import *\n",
    "from matplotlib import cm\n",
    "# e es la carga elemental, m_p es la masa del proton\n",
    "from scipy.constants import e, m_p"
   ]
  },
  {
   "cell_type": "markdown",
   "metadata": {},
   "source": [
    "### Condiciones iniciales"
   ]
  },
  {
   "cell_type": "code",
   "execution_count": 2,
   "metadata": {},
   "outputs": [
    {
     "data": {
      "text/plain": [
       "4.0"
      ]
     },
     "execution_count": 2,
     "metadata": {},
     "output_type": "execute_result"
    }
   ],
   "source": [
    "# Definimos el campo magnetico como B = 0.05T k\n",
    "B = np.array([[0.0,0.0,1.0]])\n",
    "# v_inicial = 2 m/s j \n",
    "v_inicial = np.array([[0.0, 2.0, 0.0]])\n",
    "posicion_inicial = np.array([[0.0, 0.0, 0.0]])\n",
    "t_inicial = 0\n",
    "delta_t = 0.0001\n",
    "e = 5\n",
    "m_p = 2\n",
    "p_inicial = np.linalg.norm(v_inicial)*m_p"
   ]
  },
  {
   "cell_type": "code",
   "execution_count": 3,
   "metadata": {},
   "outputs": [],
   "source": [
    "t = 0.0\n",
    "trayectoria = np.array([[0.0, 0.0, 0.0]])\n",
    "aceleracion = np.array([[0.0, 0.0, 0.0]])\n",
    "velocidad = np.array([[0.0, 2.0, 0.0]])"
   ]
  },
  {
   "cell_type": "code",
   "execution_count": 4,
   "metadata": {},
   "outputs": [],
   "source": [
    "def fuerza_y_aceleracion(q, v, B, m):\n",
    "    # Fuerza magnetica\n",
    "    F = q*np.cross(v, B)\n",
    "    a = F/m\n",
    "    return F, a"
   ]
  },
  {
   "cell_type": "code",
   "execution_count": 5,
   "metadata": {},
   "outputs": [],
   "source": [
    "def mover_particula(dt, posicion_anterior, velocidad_anterior, aceleracion_anterior):\n",
    "    posicion_actual = posicion_anterior + velocidad_anterior*dt + 0.5*aceleracion_anterior*(dt**2)\n",
    "    velocidad_actual = velocidad_anterior + aceleracion_anterior*dt\n",
    "    return posicion_actual, velocidad_actual"
   ]
  },
  {
   "cell_type": "code",
   "execution_count": 6,
   "metadata": {},
   "outputs": [],
   "source": [
    "F_1, a_1 = fuerza_y_aceleracion(e, v_inicial, B, m_p)\n",
    "pos_1, v_1 = mover_particula(delta_t, posicion_inicial, v_inicial, a_1)\n",
    "trayectoria = np.append(trayectoria, pos_1, axis=0)\n",
    "velocidad = np.append(velocidad, v_1, axis=0)\n",
    "aceleracion = np.append(aceleracion, a_1, axis=0)"
   ]
  },
  {
   "cell_type": "code",
   "execution_count": 7,
   "metadata": {},
   "outputs": [],
   "source": [
    "y = pos_1[:,1]\n",
    "i = 1\n",
    "while y >= 0:\n",
    "    f, a = fuerza_y_aceleracion(e, velocidad[i], B, m_p)\n",
    "    pos, v = mover_particula(delta_t, trayectoria[i], velocidad[i], a)\n",
    "    trayectoria = np.append(trayectoria, pos, axis=0)\n",
    "    velocidad = np.append(velocidad, v, axis=0)\n",
    "    aceleracion = np.append(aceleracion, a, axis=0)\n",
    "    i += 1\n",
    "    t += delta_t\n",
    "    y = pos[:,1]"
   ]
  },
  {
   "cell_type": "code",
   "execution_count": 8,
   "metadata": {},
   "outputs": [
    {
     "data": {
      "text/plain": [
       "[<matplotlib.lines.Line2D at 0x7ff68f1820d0>]"
      ]
     },
     "execution_count": 8,
     "metadata": {},
     "output_type": "execute_result"
    },
    {
     "data": {
      "image/png": "[encoded data removed]",
      "text/plain": [
       "<Figure size 432x288 with 1 Axes>"
      ]
     },
     "metadata": {
      "needs_background": "light"
     },
     "output_type": "display_data"
    }
   ],
   "source": [
    "plt.plot(trayectoria[:,0], trayectoria[:,1])"
   ]
  },
  {
   "cell_type": "code",
   "execution_count": 12,
   "metadata": {},
   "outputs": [],
   "source": [
    "p_final = (trayectoria[-1,0]/2)*e*np.linalg.norm(B)"
   ]
  },
  {
   "cell_type": "code",
   "execution_count": 13,
   "metadata": {},
   "outputs": [
    {
     "data": {
      "text/plain": [
       "4.000785543787771"
      ]
     },
     "execution_count": 13,
     "metadata": {},
     "output_type": "execute_result"
    }
   ],
   "source": [
    "p_final"
   ]
  },
  {
   "cell_type": "code",
   "execution_count": null,
   "metadata": {},
   "outputs": [],
   "source": []
  }
 ],
 "metadata": {
  "kernelspec": {
   "display_name": "Python 3",
   "language": "python",
   "name": "python3"
  },
  "language_info": {
   "codemirror_mode": {
    "name": "ipython",
    "version": 3
   },
   "file_extension": ".py",
   "mimetype": "text/x-python",
   "name": "python",
   "nbconvert_exporter": "python",
   "pygments_lexer": "ipython3",
   "version": "3.8.3"
  }
 },
 "nbformat": 4,
 "nbformat_minor": 4
}

{
 "cells": [
  {
   "cell_type": "code",
   "execution_count": 1,
   "metadata": {},
   "outputs": [],
   "source": [
    "import numpy as np\n",
    "import matplotlib.pyplot as plt\n",
    "from mpl_toolkits.mplot3d.axes3d import *\n",
    "from matplotlib import cm\n",
    "# e es la carga elemental, m_p es la masa del proton\n",
    "#from scipy.constants import e, m_p"
   ]
  },
  {
   "cell_type": "markdown",
   "metadata": {},
   "source": [
    "### Condiciones iniciales"
   ]
  },
  {
   "cell_type": "code",
   "execution_count": 2,
   "metadata": {},
   "outputs": [],
   "source": [
    "# Definimos el campo magnetico como B = 0.05T k\n",
    "B = np.array([[0.0,0.0,8]])\n",
    "# v_inicial = 2 m/s j \n",
    "v_inicial = np.array([[0.0, 2.0, 0.0]])\n",
    "posicion_inicial = np.array([[0.0, 0.0, 0.0]])\n",
    "t_inicial = 0\n",
    "delta_t = 0.01\n",
    "e = 5\n",
    "m_p = 2"
   ]
  },
  {
   "cell_type": "code",
   "execution_count": 3,
   "metadata": {},
   "outputs": [],
   "source": [
    "t = 0.0\n",
    "trayectoria = np.array([[0.0, 0.0, 0.0]])\n",
    "aceleracion = np.array([[0.0, 0.0, 0.0]])\n",
    "velocidad = np.array([[0.0, 2.0, 0.0]])"
   ]
  },
  {
   "cell_type": "code",
   "execution_count": 4,
   "metadata": {},
   "outputs": [],
   "source": [
    "def fuerza(q, v, B):\n",
    "    return q*np.cross(v, B)"
   ]
  },
  {
   "cell_type": "code",
   "execution_count": 5,
   "metadata": {},
   "outputs": [],
   "source": [
    "def mover_carga(v, F, m, dt):\n",
    "    return v + dt*(F/m)"
   ]
  },
  {
   "cell_type": "code",
   "execution_count": 6,
   "metadata": {},
   "outputs": [],
   "source": [
    "def f(pos, v, dt):\n",
    "    return pos + v*dt"
   ]
  },
  {
   "cell_type": "code",
   "execution_count": 15,
   "metadata": {},
   "outputs": [],
   "source": [
    "def runge_kutta_cuarto_orden(pos, v, dt):\n",
    "    k1 = dt*(pos[0,1] + v[:-1]*dt)\n",
    "    k2 = dt*((pos[:-1]+(dt/2))+((v[:-1]*dt)+k1/2))\n",
    "    #k2 = dt*f(pos + (dt/2), v + k1/2, dt)\n",
    "    #print(pos+(dt/2))\n",
    "    k3 = dt*((pos[:-1]+(dt/2))+((v[:-1]*dt)+k2/2))\n",
    "    #k3 = dt*f(pos + (dt/2), v + k2/2, dt)\n",
    "    k4 = dt*((pos[:-1]+dt)+((v[:-1]*dt)+k3))\n",
    "    #k4 = dt*f(pos + dt, v + k3, dt)\n",
    "    return pos[:-1] + (k1/6)+(k2/3)+(k3/3)+(k4/6)"
   ]
  },
  {
   "cell_type": "code",
   "execution_count": 16,
   "metadata": {},
   "outputs": [
    {
     "name": "stdout",
     "output_type": "stream",
     "text": [
      "[0.]\n"
     ]
    }
   ],
   "source": [
    "#Evaluamos el sistema a la primera posicion \n",
    "F_1 = fuerza(e, v_inicial, B)\n",
    "#print(F_1)\n",
    "v_1 = mover_carga(v_inicial, F_1, m_p, delta_t)\n",
    "rk4 = runge_kutta_cuarto_orden(posicion_inicial, v_inicial, delta_t)\n",
    "trayectoria = np.append(trayectoria, rk4, axis=0)"
   ]
  },
  {
   "cell_type": "code",
   "execution_count": 9,
   "metadata": {},
   "outputs": [],
   "source": [
    "y = trayectoria[1,1]\n",
    "v_anterior = v_actual = v_1\n",
    "i = 2\n",
    "while y >= 0:\n",
    "    f = fuerza(e, v_anterior, B)\n",
    "    v_anterior = v_actual\n",
    "    v_actual = mover_carga(v_anterior, f, m_p, delta_t)\n",
    "    posicion_actual = runge_kutta_cuarto_orden(trayectoria[i-1,:], v_anterior, delta_t)\n",
    "    trayectoria = np.append(trayectoria, posicion_actual, axis=0)\n",
    "    y = trayectoria[i, 1]\n",
    "    #print(\"fuerza\", f)\n",
    "    #print(\"v:ant\", v_anterior)\n",
    "    #print(\"v_act\", v_actual)\n",
    "    #print(\"tra\", trayectoria)\n",
    "    t += delta_t\n",
    "    i += 1"
   ]
  },
  {
   "cell_type": "code",
   "execution_count": 10,
   "metadata": {},
   "outputs": [
    {
     "data": {
      "text/plain": [
       "[<matplotlib.lines.Line2D at 0x7fe3df057130>]"
      ]
     },
     "execution_count": 10,
     "metadata": {},
     "output_type": "execute_result"
    },
    {
     "data": {
      "image/png": "[encoded data removed]",
      "text/plain": [
       "<Figure size 432x288 with 1 Axes>"
      ]
     },
     "metadata": {
      "needs_background": "light"
     },
     "output_type": "display_data"
    }
   ],
   "source": [
    "plt.plot(trayectoria[:,0], trayectoria[:,1])"
   ]
  },
  {
   "cell_type": "code",
   "execution_count": null,
   "metadata": {},
   "outputs": [],
   "source": []
  },
  {
   "cell_type": "code",
   "execution_count": null,
   "metadata": {},
   "outputs": [],
   "source": []
  }
 ],
 "metadata": {
  "kernelspec": {
   "display_name": "Python 3",
   "language": "python",
   "name": "python3"
  },
  "language_info": {
   "codemirror_mode": {
    "name": "ipython",
    "version": 3
   },
   "file_extension": ".py",
   "mimetype": "text/x-python",
   "name": "python",
   "nbconvert_exporter": "python",
   "pygments_lexer": "ipython3",
   "version": "3.8.3"
  }
 },
 "nbformat": 4,
 "nbformat_minor": 4
}
